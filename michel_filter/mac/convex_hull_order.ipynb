{
 "cells": [
  {
   "cell_type": "code",
   "execution_count": 2,
   "metadata": {
    "collapsed": false
   },
   "outputs": [],
   "source": [
    "import ROOT as rr; import rootnotes; import numpy as np; import matplotlib.path as mplPath;\n",
    "from pyhull.convex_hull import ConvexHull; \n",
    "from itertools import combinations"
   ]
  },
  {
   "cell_type": "code",
   "execution_count": 3,
   "metadata": {
    "collapsed": true
   },
   "outputs": [],
   "source": [
    "th2D = rr.TH2D(\"xx\",\";;\",200,0,2,200,0,2)"
   ]
  },
  {
   "cell_type": "code",
   "execution_count": 4,
   "metadata": {
    "collapsed": false
   },
   "outputs": [
    {
     "name": "stdout",
     "output_type": "stream",
     "text": [
      "[4, 5, 3, 1, 2]\n"
     ]
    }
   ],
   "source": [
    "poly = [[1,1],[0,0],[1,0],[0,1],[2,3],[2,5]]\n",
    "d = ConvexHull(poly)\n",
    "ordered = []\n",
    "vert = d.vertices\n",
    "first = vert.pop(0)\n",
    "ordered.append(first[0])\n",
    "ordered.append(first[1])\n",
    "while (len(vert) > 0):\n",
    "    for l in xrange(len(vert)):\n",
    "        if(ordered[-1] == vert[l][0]):\n",
    "                ordered.append(vert[l][1])\n",
    "                vert.remove(vert[l])\n",
    "                break\n",
    "        \n",
    "ordered.pop()\n",
    "print ordered\n",
    "#for s in d.simplices:\n",
    "#    for data in combinations(s.coords, 2):\n",
    "#        print np.array(data)\n",
    "        \n",
    "\n",
    "bbPath = mplPath.Path(np.array(poly)[ordered])"
   ]
  },
  {
   "cell_type": "code",
   "execution_count": 5,
   "metadata": {
    "collapsed": true
   },
   "outputs": [],
   "source": [
    "c1 = rootnotes.default_canvas()"
   ]
  },
  {
   "cell_type": "code",
   "execution_count": 6,
   "metadata": {
    "collapsed": true
   },
   "outputs": [],
   "source": [
    "for i in xrange(200):\n",
    "    for j in xrange(200):\n",
    "            if(bbPath.contains_point((i/100.0,j/100.0))):\n",
    "                 th2D.Fill(float(i/100.0),float(j/100.0),1)"
   ]
  },
  {
   "cell_type": "code",
   "execution_count": 7,
   "metadata": {
    "collapsed": true
   },
   "outputs": [],
   "source": [
    "th2D.Draw(\"COLZ\")"
   ]
  },
  {
   "cell_type": "code",
   "execution_count": 8,
   "metadata": {
    "collapsed": false
   },
   "outputs": [
    {
     "data": {
      "image/png": "[encoded data removed]",
      "text/plain": [
       "<ROOT.TCanvas object (\"icanvas\") at 0x7fb48bbf9500>"
      ]
     },
     "execution_count": 8,
     "metadata": {},
     "output_type": "execute_result"
    }
   ],
   "source": [
    "c1"
   ]
  },
  {
   "cell_type": "code",
   "execution_count": 11,
   "metadata": {
    "collapsed": false
   },
   "outputs": [
    {
     "data": {
      "text/plain": [
       "0"
      ]
     },
     "execution_count": 11,
     "metadata": {},
     "output_type": "execute_result"
    }
   ],
   "source": [
    "bbPath.contains_point((0.8,0.5))"
   ]
  },
  {
   "cell_type": "code",
   "execution_count": null,
   "metadata": {
    "collapsed": true
   },
   "outputs": [],
   "source": []
  }
 ],
 "metadata": {
  "kernelspec": {
   "display_name": "Python 2",
   "language": "python",
   "name": "python2"
  },
  "language_info": {
   "codemirror_mode": {
    "name": "ipython",
    "version": 2
   },
   "file_extension": ".py",
   "mimetype": "text/x-python",
   "name": "python",
   "nbconvert_exporter": "python",
   "pygments_lexer": "ipython2",
   "version": "2.7.5"
  }
 },
 "nbformat": 4,
 "nbformat_minor": 0
}
