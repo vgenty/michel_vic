{
 "cells": [
  {
   "cell_type": "code",
   "execution_count": 1,
   "metadata": {
    "collapsed": false
   },
   "outputs": [],
   "source": [
    "from pyhull.convex_hull import ConvexHull; import numpy as np; import root_numpy as rn;\n",
    "import itertools"
   ]
  },
  {
   "cell_type": "code",
   "execution_count": 2,
   "metadata": {
    "collapsed": true
   },
   "outputs": [],
   "source": [
    "import ROOT as rr; import rootnotes;"
   ]
  },
  {
   "cell_type": "code",
   "execution_count": 3,
   "metadata": {
    "collapsed": false
   },
   "outputs": [],
   "source": [
    "vals = np.array([[ 860.7       ,  295.68172739],\n",
    "       [ 860.7       ,  297.31785291],\n",
    "       [ 861.        ,  295.56009009],\n",
    "       [ 861.3       ,  295.46940112],\n",
    "       [ 861.9       ,  295.03147941],\n",
    "       [ 862.2       ,  294.83694989],\n",
    "       [ 862.5       ,  294.66958591],\n",
    "       [ 862.5       ,  296.58224714],\n",
    "       [ 861.6       ,  295.27163761],\n",
    "       [ 859.2       ,  296.56156919],\n",
    "       [ 859.5       ,  296.47242862],\n",
    "       [ 859.8       ,  296.16753178],\n",
    "       [ 859.8       ,  296.81005738],\n",
    "       [ 858.9       ,  296.69663246],\n",
    "       [ 862.8       ,  294.50226113],\n",
    "       [ 863.1       ,  294.33256475],\n",
    "       [ 863.4       ,  294.14763921],\n",
    "       [ 863.7       ,  293.99309359],\n",
    "       [ 862.8       ,  296.47464341],\n",
    "       [ 860.1       ,  295.97333546],\n",
    "       [ 860.1       ,  297.13467177],\n",
    "       [ 860.4       ,  295.78225554],\n",
    "       [ 860.4       ,  297.26136585]])"
   ]
  },
  {
   "cell_type": "code",
   "execution_count": 4,
   "metadata": {
    "collapsed": false
   },
   "outputs": [],
   "source": [
    "hull = ConvexHull(vals)"
   ]
  },
  {
   "cell_type": "code",
   "execution_count": 5,
   "metadata": {
    "collapsed": false
   },
   "outputs": [],
   "source": [
    "c1 = rootnotes.default_canvas()"
   ]
  },
  {
   "cell_type": "code",
   "execution_count": 6,
   "metadata": {
    "collapsed": false
   },
   "outputs": [],
   "source": [
    "tg = rr.TGraph(); rn.fill_graph(tg,vals); tg.SetMarkerStyle(20)"
   ]
  },
  {
   "cell_type": "code",
   "execution_count": 7,
   "metadata": {
    "collapsed": false
   },
   "outputs": [],
   "source": [
    "tg.Draw(\"AP\")"
   ]
  },
  {
   "cell_type": "code",
   "execution_count": 8,
   "metadata": {
    "collapsed": false
   },
   "outputs": [
    {
     "name": "stdout",
     "output_type": "stream",
     "text": [
      "[[17, 18], [18, 1], [13, 21], [22, 13], [1, 22], [16, 17], [21, 16]]\n"
     ]
    }
   ],
   "source": [
    "print hull.vertices"
   ]
  },
  {
   "cell_type": "code",
   "execution_count": 9,
   "metadata": {
    "collapsed": false
   },
   "outputs": [
    {
     "name": "stdout",
     "output_type": "stream",
     "text": [
      "[17, 18, 13, 22, 1, 16, 21]\n"
     ]
    }
   ],
   "source": [
    "array = []\n",
    "for v in hull.vertices:\n",
    "      if(v[0] not in array): array.append(v[0])\n",
    "print array"
   ]
  },
  {
   "cell_type": "code",
   "execution_count": 10,
   "metadata": {
    "collapsed": false
   },
   "outputs": [],
   "source": [
    "tgouter = rr.TGraph(); rn.fill_graph(tgouter,vals[array]); tgouter.SetMarkerStyle(29); tgouter.SetMarkerColor(3)"
   ]
  },
  {
   "cell_type": "code",
   "execution_count": 11,
   "metadata": {
    "collapsed": true
   },
   "outputs": [],
   "source": [
    "tg.Draw(\"AP\")"
   ]
  },
  {
   "cell_type": "code",
   "execution_count": 12,
   "metadata": {
    "collapsed": false
   },
   "outputs": [],
   "source": [
    "tmg = rr.TMultiGraph(); tmg.Add(tg); tmg.Add(tgouter); tgouter.SetMarkerSize(2)"
   ]
  },
  {
   "cell_type": "code",
   "execution_count": 13,
   "metadata": {
    "collapsed": true
   },
   "outputs": [],
   "source": [
    "tmg.Draw(\"AP\")"
   ]
  },
  {
   "cell_type": "code",
   "execution_count": 14,
   "metadata": {
    "collapsed": false
   },
   "outputs": [
    {
     "data": {
      "image/png": "[encoded data removed]",
      "text/plain": [
       "<ROOT.TCanvas object (\"icanvas\") at 0x7f9134f819c0>"
      ]
     },
     "execution_count": 14,
     "metadata": {},
     "output_type": "execute_result"
    }
   ],
   "source": [
    "c1"
   ]
  },
  {
   "cell_type": "code",
   "execution_count": null,
   "metadata": {
    "collapsed": false
   },
   "outputs": [],
   "source": []
  },
  {
   "cell_type": "code",
   "execution_count": null,
   "metadata": {
    "collapsed": true
   },
   "outputs": [],
   "source": []
  },
  {
   "cell_type": "code",
   "execution_count": null,
   "metadata": {
    "collapsed": false
   },
   "outputs": [],
   "source": []
  },
  {
   "cell_type": "code",
   "execution_count": null,
   "metadata": {
    "collapsed": true
   },
   "outputs": [],
   "source": []
  }
 ],
 "metadata": {
  "kernelspec": {
   "display_name": "Python 2",
   "language": "python",
   "name": "python2"
  },
  "language_info": {
   "codemirror_mode": {
    "name": "ipython",
    "version": 2
   },
   "file_extension": ".py",
   "mimetype": "text/x-python",
   "name": "python",
   "nbconvert_exporter": "python",
   "pygments_lexer": "ipython2",
   "version": "2.7.5"
  }
 },
 "nbformat": 4,
 "nbformat_minor": 0
}
