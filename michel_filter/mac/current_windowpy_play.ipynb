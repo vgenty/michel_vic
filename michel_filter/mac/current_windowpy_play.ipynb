{
 "cells": [
  {
   "cell_type": "code",
   "execution_count": 18,
   "metadata": {
    "collapsed": false
   },
   "outputs": [
    {
     "name": "stdout",
     "output_type": "stream",
     "text": [
      "[25]\n",
      "[25 16  9]\n",
      "[16  9  4]\n",
      "[9 4 1]\n",
      "[4 1 0]\n",
      "[1 0 1]\n",
      "[0 1 4]\n",
      "[1 4 9]\n",
      "[ 4  9 16]\n",
      "[ 9 16 25]\n",
      "[25]\n",
      "[25.0, 16.0, 9.0, 4.0, 1.0, 1.0, 1.0, 4.0, 9.0, 16.0, 25.0]\n"
     ]
    }
   ],
   "source": [
    "from windows import *\n",
    "data = [25,16,9,4,1,0,1,4,9,16,25]\n",
    "x    = [-5,-4,-3,-2,-1,0,1,2,3,4,5]\n",
    "print windowed_means(data,3,25,75)"
   ]
  },
  {
   "cell_type": "code",
   "execution_count": 21,
   "metadata": {
    "collapsed": false
   },
   "outputs": [
    {
     "name": "stdout",
     "output_type": "stream",
     "text": [
      "[25, 16, 9, 4, 1, 0]\n",
      "[-5, -4, -3, -2, -1, 0]\n",
      "-5.0\n",
      "[16, 9, 4, 1, 0, 1]\n",
      "[-4, -3, -2, -1, 0, 1]\n",
      "-3.0\n",
      "[9, 4, 1, 0, 1, 4]\n",
      "[-3, -2, -1, 0, 1, 2]\n",
      "-1.0\n",
      "[4, 1, 0, 1, 4, 9]\n",
      "[-2, -1, 0, 1, 2, 3]\n",
      "1.0\n",
      "[1, 0, 1, 4, 9, 16]\n",
      "[-1, 0, 1, 2, 3, 4]\n",
      "3.0\n",
      "[0, 1, 4, 9, 16, 25]\n",
      "[0, 1, 2, 3, 4, 5]\n",
      "5.0\n"
     ]
    }
   ],
   "source": [
    "s = 3\n",
    "for i in xrange(s,len(data)-s+1) :\n",
    "    print data[i-s : i+s]\n",
    "    print x[i-s : i+s]\n",
    "    print smooth_derive(data[i-s : i+s],x[i-s : i+s],7)\n",
    "\n"
   ]
  },
  {
   "cell_type": "code",
   "execution_count": 4,
   "metadata": {
    "collapsed": false
   },
   "outputs": [
    {
     "ename": "NameError",
     "evalue": "global name 'pdown' is not defined",
     "output_type": "error",
     "traceback": [
      "\u001b[0;31m---------------------------------------------------------------------------\u001b[0m",
      "\u001b[0;31mNameError\u001b[0m                                 Traceback (most recent call last)",
      "\u001b[0;32m<ipython-input-4-c3646885516c>\u001b[0m in \u001b[0;36m<module>\u001b[0;34m()\u001b[0m\n\u001b[0;32m----> 1\u001b[0;31m \u001b[0;32mprint\u001b[0m \u001b[0mwindowed_means\u001b[0m\u001b[0;34m(\u001b[0m\u001b[0mdata\u001b[0m\u001b[0;34m,\u001b[0m\u001b[0;36m11\u001b[0m\u001b[0;34m,\u001b[0m\u001b[0;36m0\u001b[0m\u001b[0;34m,\u001b[0m\u001b[0;36m100\u001b[0m\u001b[0;34m)\u001b[0m\u001b[0;34m\u001b[0m\u001b[0m\n\u001b[0m",
      "\u001b[0;32m/Users/vgenty/git/vic_larlite/UserDev/michel_vic/michel_filter/mac/windows.py\u001b[0m in \u001b[0;36mwindowed_means\u001b[0;34m(data, window_size, p_down, p_up)\u001b[0m\n\u001b[1;32m     24\u001b[0m             \u001b[0mmeans\u001b[0m \u001b[0;34m=\u001b[0m \u001b[0mnp\u001b[0m\u001b[0;34m.\u001b[0m\u001b[0masarray\u001b[0m\u001b[0;34m(\u001b[0m\u001b[0mdata\u001b[0m\u001b[0;34m[\u001b[0m\u001b[0mi\u001b[0m \u001b[0;34m-\u001b[0m \u001b[0mw\u001b[0m\u001b[0;34m:\u001b[0m \u001b[0mi\u001b[0m \u001b[0;34m+\u001b[0m \u001b[0mw\u001b[0m \u001b[0;34m-\u001b[0m \u001b[0;36m1\u001b[0m\u001b[0;34m]\u001b[0m\u001b[0;34m)\u001b[0m\u001b[0;34m\u001b[0m\u001b[0m\n\u001b[1;32m     25\u001b[0m \u001b[0;34m\u001b[0m\u001b[0m\n\u001b[0;32m---> 26\u001b[0;31m         \u001b[0mlower_limit\u001b[0m \u001b[0;34m=\u001b[0m \u001b[0mnp\u001b[0m\u001b[0;34m.\u001b[0m\u001b[0mpercentile\u001b[0m\u001b[0;34m(\u001b[0m\u001b[0mmeans\u001b[0m\u001b[0;34m,\u001b[0m \u001b[0mp_down\u001b[0m\u001b[0;34m)\u001b[0m\u001b[0;34m\u001b[0m\u001b[0m\n\u001b[0m\u001b[1;32m     27\u001b[0m         \u001b[0mupper_limit\u001b[0m \u001b[0;34m=\u001b[0m \u001b[0mnp\u001b[0m\u001b[0;34m.\u001b[0m\u001b[0mpercentile\u001b[0m\u001b[0;34m(\u001b[0m\u001b[0mmeans\u001b[0m\u001b[0;34m,\u001b[0m \u001b[0mp_up\u001b[0m\u001b[0;34m)\u001b[0m\u001b[0;34m\u001b[0m\u001b[0m\n\u001b[1;32m     28\u001b[0m         mean_window.append(scipy.stats.tmean(meancharge, \n",
      "\u001b[0;31mNameError\u001b[0m: global name 'pdown' is not defined"
     ]
    }
   ],
   "source": []
  },
  {
   "cell_type": "code",
   "execution_count": null,
   "metadata": {
    "collapsed": true
   },
   "outputs": [],
   "source": []
  }
 ],
 "metadata": {
  "kernelspec": {
   "display_name": "Python 2",
   "language": "python",
   "name": "python2"
  },
  "language_info": {
   "codemirror_mode": {
    "name": "ipython",
    "version": 2
   },
   "file_extension": ".py",
   "mimetype": "text/x-python",
   "name": "python",
   "nbconvert_exporter": "python",
   "pygments_lexer": "ipython2",
   "version": "2.7.5"
  }
 },
 "nbformat": 4,
 "nbformat_minor": 0
}
