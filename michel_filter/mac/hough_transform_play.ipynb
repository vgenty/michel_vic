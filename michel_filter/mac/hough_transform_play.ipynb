{
 "cells": [
  {
   "cell_type": "code",
   "execution_count": 125,
   "metadata": {
    "collapsed": true
   },
   "outputs": [],
   "source": [
    "import rootnotes; import ROOT as rr; import numpy as N"
   ]
  },
  {
   "cell_type": "code",
   "execution_count": 2,
   "metadata": {
    "collapsed": true
   },
   "outputs": [],
   "source": [
    "def hough_transform(img_bin, theta_res=1, rho_res=1):\n",
    "  nR,nC = img_bin.shape\n",
    "  theta = N.linspace(-90.0, 0.0, N.ceil(90.0/theta_res) + 1.0)\n",
    "  theta = N.concatenate((theta, -theta[len(theta)-2::-1]))\n",
    " \n",
    "  D = N.sqrt((nR - 1)**2 + (nC - 1)**2)\n",
    "  q = N.ceil(D/rho_res)\n",
    "  nrho = 2*q + 1\n",
    "  rho = N.linspace(-q*rho_res, q*rho_res, nrho)\n",
    "  H = N.zeros((len(rho), len(theta)))\n",
    "  for rowIdx in range(nR):\n",
    "    for colIdx in range(nC):\n",
    "      if img_bin[rowIdx, colIdx]:\n",
    "        for thIdx in range(len(theta)):\n",
    "          rhoVal = colIdx*N.cos(theta[thIdx]*N.pi/180.0) + \\\n",
    "              rowIdx*N.sin(theta[thIdx]*N.pi/180)\n",
    "          rhoIdx = N.nonzero(N.abs(rho-rhoVal) == N.min(N.abs(rho-rhoVal)))[0]\n",
    "          H[rhoIdx[0], thIdx] += 1\n",
    "  return [rho, theta, H]"
   ]
  },
  {
   "cell_type": "code",
   "execution_count": 5,
   "metadata": {
    "collapsed": false
   },
   "outputs": [],
   "source": [
    "vals = N.array([[ 899.7       ,  281.43820767],\n",
    "       [ 900.        ,  281.43673767],\n",
    "       [ 899.4       ,  281.4264281 ],\n",
    "       [ 900.6       ,  281.48938314],\n",
    "       [ 900.9       ,  281.51131549],\n",
    "       [ 901.2       ,  281.53201304],\n",
    "       [ 927.        ,  283.27889789],\n",
    "       [ 927.3       ,  283.30202583],\n",
    "       [ 927.6       ,  283.32501657],\n",
    "       [ 928.2       ,  283.36115888],\n",
    "       [ 928.5       ,  283.38640362],\n",
    "       [ 928.8       ,  283.40335758],\n",
    "       [ 927.9       ,  283.34161773],\n",
    "       [ 901.8       ,  281.56164816],\n",
    "       [ 902.1       ,  281.58373731],\n",
    "       [ 902.4       ,  281.58983289],\n",
    "       [ 903.        ,  281.61950722],\n",
    "       [ 903.3       ,  281.64089077],\n",
    "       [ 903.6       ,  281.65519873],\n",
    "       [ 902.7       ,  281.61519523],\n",
    "       [ 905.4       ,  281.73894932],\n",
    "       [ 905.7       ,  281.74504491],\n",
    "       [ 906.        ,  281.76335126],\n",
    "       [ 906.6       ,  281.79867037],\n",
    "       [ 906.9       ,  281.81446793],\n",
    "       [ 907.2       ,  281.81850552],\n",
    "       [ 906.3       ,  281.77665963],\n",
    "       [ 897.6       ,  281.31100399],\n",
    "       [ 897.9       ,  281.33585673],\n",
    "       [ 898.2       ,  281.36012147],\n",
    "       [ 898.8       ,  281.38066221],\n",
    "       [ 899.1       ,  281.40745535],\n",
    "       [ 898.5       ,  281.37097984],\n",
    "       [ 896.7       ,  281.26308211],\n",
    "       [ 897.        ,  281.28844444],\n",
    "       [ 897.3       ,  281.30132161],\n",
    "       [ 900.3       ,  281.31129799],\n",
    "       [ 936.6       ,  283.91309351],\n",
    "       [ 936.9       ,  283.94455143],\n",
    "       [ 937.2       ,  283.96274018],\n",
    "       [ 937.8       ,  283.99915689],\n",
    "       [ 938.1       ,  284.01942324],\n",
    "       [ 938.4       ,  284.04331558],\n",
    "       [ 937.5       ,  283.98004694],\n",
    "       [ 917.4       ,  282.50420982],\n",
    "       [ 917.7       ,  282.52720056],\n",
    "       [ 918.        ,  282.5516417 ],\n",
    "       [ 918.6       ,  282.60173917],\n",
    "       [ 918.9       ,  282.63762668],\n",
    "       [ 919.2       ,  282.66400822],\n",
    "       [ 918.3       ,  282.57712163],\n",
    "       [ 907.8       ,  281.85729383],\n",
    "       [ 908.1       ,  281.87724658],\n",
    "       [ 908.4       ,  281.89147614],\n",
    "       [ 909.        ,  281.92516846],\n",
    "       [ 909.3       ,  281.93931962],\n",
    "       [ 909.6       ,  281.95121679],\n",
    "       [ 908.7       ,  281.90466691],\n",
    "       [ 904.2       ,  281.67838547],\n",
    "       [ 904.5       ,  281.68832265],\n",
    "       [ 904.8       ,  281.7089418 ],\n",
    "       [ 903.9       ,  281.67348548],\n",
    "       [ 901.5       ,  281.5483202 ],\n",
    "       [ 905.1       ,  281.72246576],\n",
    "       [ 907.5       ,  281.84059467],\n",
    "       [ 909.9       ,  281.97201234],\n",
    "       [ 910.2       ,  281.99204349],\n",
    "       [ 910.8       ,  282.0300282 ],\n",
    "       [ 911.1       ,  282.04259177],\n",
    "       [ 911.4       ,  282.05466533],\n",
    "       [ 910.5       ,  282.00503826],\n",
    "       [ 912.        ,  282.10384161],\n",
    "       [ 912.3       ,  282.11179919],\n",
    "       [ 912.6       ,  282.14155192],\n",
    "       [ 911.7       ,  282.07775408],\n",
    "       [ 913.2       ,  282.18265302],\n",
    "       [ 913.5       ,  282.19952857],\n",
    "       [ 913.8       ,  282.22459691],\n",
    "       [ 912.9       ,  282.15754548],\n",
    "       [ 914.4       ,  282.27524319],\n",
    "       [ 914.7       ,  282.29305954],\n",
    "       [ 915.        ,  282.31238509],\n",
    "       [ 914.1       ,  282.24747005],\n",
    "       [ 915.6       ,  282.35883698],\n",
    "       [ 915.9       ,  282.3910005 ],\n",
    "       [ 916.2       ,  282.41140405],\n",
    "       [ 915.3       ,  282.3486646 ],\n",
    "       [ 916.8       ,  282.45695433],\n",
    "       [ 917.1       ,  282.4709487 ],\n",
    "       [ 916.5       ,  282.43870678],\n",
    "       [ 919.5       ,  282.68098177],\n",
    "       [ 919.8       ,  282.70601091],\n",
    "       [ 920.4       ,  282.7527176 ],\n",
    "       [ 920.7       ,  282.77592394],\n",
    "       [ 921.        ,  282.80783266],\n",
    "       [ 920.1       ,  282.72353327],\n",
    "       [ 921.6       ,  282.85326535],\n",
    "       [ 921.9       ,  282.88066608],\n",
    "       [ 922.2       ,  282.90236322],\n",
    "       [ 921.3       ,  282.82813821],\n",
    "       [ 922.8       ,  282.96182948],\n",
    "       [ 923.1       ,  282.98125303],\n",
    "       [ 923.4       ,  283.00157818],\n",
    "       [ 922.5       ,  282.92823516],\n",
    "       [ 924.        ,  283.05581124],\n",
    "       [ 924.3       ,  283.08062478],\n",
    "       [ 924.6       ,  283.10261592],\n",
    "       [ 923.7       ,  283.02500012],\n",
    "       [ 925.2       ,  283.1524194 ],\n",
    "       [ 925.5       ,  283.16913816],\n",
    "       [ 925.8       ,  283.19861649],\n",
    "       [ 924.9       ,  283.12686106],\n",
    "       [ 926.4       ,  283.24287317],\n",
    "       [ 926.7       ,  283.25831794],\n",
    "       [ 926.1       ,  283.21696204],\n",
    "       [ 929.1       ,  283.4322087 ],\n",
    "       [ 929.4       ,  283.45257305],\n",
    "       [ 930.        ,  283.49290975],\n",
    "       [ 930.3       ,  283.51923249],\n",
    "       [ 930.6       ,  283.54136083],\n",
    "       [ 929.7       ,  283.47838619],\n",
    "       [ 931.2       ,  283.58079593],\n",
    "       [ 931.5       ,  283.58922391],\n",
    "       [ 931.8       ,  283.60760867],\n",
    "       [ 930.9       ,  283.56005918],\n",
    "       [ 932.4       ,  283.65206136],\n",
    "       [ 932.7       ,  283.66885851],\n",
    "       [ 933.        ,  283.69218246],\n",
    "       [ 932.1       ,  283.62228903],\n",
    "       [ 933.6       ,  283.72681557],\n",
    "       [ 933.9       ,  283.74457312],\n",
    "       [ 934.2       ,  283.76315388],\n",
    "       [ 933.3       ,  283.70937161],\n",
    "       [ 934.8       ,  283.79984499],\n",
    "       [ 935.1       ,  283.82246333],\n",
    "       [ 935.4       ,  283.84402328],\n",
    "       [ 934.5       ,  283.78375343],\n",
    "       [ 936.        ,  283.87942079],\n",
    "       [ 936.3       ,  283.90156873],\n",
    "       [ 935.7       ,  283.85778244],\n",
    "       [ 938.7       ,  284.06454233],\n",
    "       [ 939.        ,  284.035064  ]])"
   ]
  },
  {
   "cell_type": "code",
   "execution_count": 127,
   "metadata": {
    "collapsed": false
   },
   "outputs": [],
   "source": [
    "del c1\n",
    "c1 = rootnotes.default_canvas()\n",
    "xmax = N.amax(vals[:,0]);\n",
    "ymax = N.amax(vals[:,1]);\n",
    "xmin = N.amin(vals[:,0]);\n",
    "ymin = N.amin(vals[:,1]);\n",
    "ndx = 0.3\n",
    "ndy = 0.0802814\n",
    "Nx = int((xmax - xmin)/ndx+2)\n",
    "Ny = int((ymax - ymin)/ndy+2)\n",
    "parmspace = N.zeros((Nx,Ny),dtype=N.int)\n",
    "for v in vals:\n",
    "    i = int(N.floor((v[0] - xmin)/ndx))\n",
    "    j = int(N.floor((v[1] - ymin)/ndy))\n",
    "    parmspace[i][j] = 1"
   ]
  },
  {
   "cell_type": "code",
   "execution_count": 129,
   "metadata": {
    "collapsed": false
   },
   "outputs": [],
   "source": [
    "del th2d\n",
    "th2d = rr.TH2D(\"bakaa\",\";;\",Nx,0,Nx,Ny,0,Ny)\n",
    "for i in xrange(Nx):\n",
    "    for j in xrange(Ny):\n",
    "        th2d.Fill(i,j,parmspace[i][j])"
   ]
  },
  {
   "cell_type": "raw",
   "metadata": {},
   "source": []
  },
  {
   "cell_type": "code",
   "execution_count": 130,
   "metadata": {
    "collapsed": false
   },
   "outputs": [],
   "source": [
    "rr.gStyle.SetOptStat(0)\n",
    "th2d.Draw(\"COLZ\")"
   ]
  },
  {
   "cell_type": "code",
   "execution_count": 54,
   "metadata": {
    "collapsed": false
   },
   "outputs": [
    {
     "data": {
      "image/png": "[encoded data removed]",
      "text/plain": [
       "<ROOT.TCanvas object (\"icanvas\") at 0x7f99e5032f10>"
      ]
     },
     "execution_count": 54,
     "metadata": {},
     "output_type": "execute_result"
    }
   ],
   "source": [
    "c1"
   ]
  },
  {
   "cell_type": "markdown",
   "metadata": {},
   "source": [
    "# "
   ]
  },
  {
   "cell_type": "code",
   "execution_count": 95,
   "metadata": {
    "collapsed": false
   },
   "outputs": [],
   "source": [
    "aho = hough_transform(parmspace,1.0,1.0)"
   ]
  },
  {
   "cell_type": "code",
   "execution_count": 119,
   "metadata": {
    "collapsed": false
   },
   "outputs": [],
   "source": [
    "del thh\n",
    "thh = rr.TH2D(\"xxxxx\",\";;\",180,-90,90,292,-146,146)"
   ]
  },
  {
   "cell_type": "code",
   "execution_count": 120,
   "metadata": {
    "collapsed": false
   },
   "outputs": [],
   "source": [
    "for i in xrange(len(aho[1])):\n",
    "    for j in xrange(len(aho[0])):\n",
    "        thh.Fill(aho[1][i],aho[0][j],aho[2][j][i])"
   ]
  },
  {
   "cell_type": "code",
   "execution_count": 142,
   "metadata": {
    "collapsed": false
   },
   "outputs": [],
   "source": [
    "del c3\n",
    "c3 = rootnotes.default_canvas()"
   ]
  },
  {
   "cell_type": "code",
   "execution_count": 143,
   "metadata": {
    "collapsed": false
   },
   "outputs": [],
   "source": [
    "thh.Draw(\"COLZ\")"
   ]
  },
  {
   "cell_type": "markdown",
   "metadata": {},
   "source": [
    "## "
   ]
  },
  {
   "cell_type": "code",
   "execution_count": 144,
   "metadata": {
    "collapsed": false
   },
   "outputs": [
    {
     "data": {
      "image/png": "[encoded data removed]",
      "text/plain": [
       "<ROOT.TCanvas object (\"icanvas\") at 0x7f99e502bdd0>"
      ]
     },
     "execution_count": 144,
     "metadata": {},
     "output_type": "execute_result"
    }
   ],
   "source": [
    "c3"
   ]
  },
  {
   "cell_type": "code",
   "execution_count": 155,
   "metadata": {
    "collapsed": false
   },
   "outputs": [
    {
     "ename": "TypeError",
     "evalue": "none of the 2 overloaded methods succeeded. Full details:\n  int TH1::GetMinimumBin() =>\n    takes at most 0 arguments (3 given)\n  int TH1::GetMinimumBin(int& locmix, int& locmiy, int& locmiz) =>\n    could not convert argument 1 (use ROOT.Long for pass-by-ref of ints)",
     "output_type": "error",
     "traceback": [
      "\u001b[0;31m---------------------------------------------------------------------------\u001b[0m",
      "\u001b[0;31mTypeError\u001b[0m                                 Traceback (most recent call last)",
      "\u001b[0;32m<ipython-input-155-b6eb3b418d54>\u001b[0m in \u001b[0;36m<module>\u001b[0;34m()\u001b[0m\n\u001b[1;32m      2\u001b[0m \u001b[0mb\u001b[0m \u001b[0;34m=\u001b[0m \u001b[0mint\u001b[0m\u001b[0;34m(\u001b[0m\u001b[0;36m0\u001b[0m\u001b[0;34m)\u001b[0m\u001b[0;34m\u001b[0m\u001b[0m\n\u001b[1;32m      3\u001b[0m \u001b[0mc\u001b[0m \u001b[0;34m=\u001b[0m \u001b[0mint\u001b[0m\u001b[0;34m(\u001b[0m\u001b[0;36m0\u001b[0m\u001b[0;34m)\u001b[0m\u001b[0;34m\u001b[0m\u001b[0m\n\u001b[0;32m----> 4\u001b[0;31m \u001b[0mthh\u001b[0m\u001b[0;34m.\u001b[0m\u001b[0mGetMinimumBin\u001b[0m\u001b[0;34m(\u001b[0m\u001b[0ma\u001b[0m\u001b[0;34m,\u001b[0m\u001b[0mb\u001b[0m\u001b[0;34m,\u001b[0m\u001b[0mc\u001b[0m\u001b[0;34m)\u001b[0m\u001b[0;34m\u001b[0m\u001b[0m\n\u001b[0m",
      "\u001b[0;31mTypeError\u001b[0m: none of the 2 overloaded methods succeeded. Full details:\n  int TH1::GetMinimumBin() =>\n    takes at most 0 arguments (3 given)\n  int TH1::GetMinimumBin(int& locmix, int& locmiy, int& locmiz) =>\n    could not convert argument 1 (use ROOT.Long for pass-by-ref of ints)"
     ]
    }
   ],
   "source": []
  },
  {
   "cell_type": "code",
   "execution_count": null,
   "metadata": {
    "collapsed": true
   },
   "outputs": [],
   "source": []
  }
 ],
 "metadata": {
  "kernelspec": {
   "display_name": "Python 2",
   "language": "python",
   "name": "python2"
  },
  "language_info": {
   "codemirror_mode": {
    "name": "ipython",
    "version": 2
   },
   "file_extension": ".py",
   "mimetype": "text/x-python",
   "name": "python",
   "nbconvert_exporter": "python",
   "pygments_lexer": "ipython2",
   "version": "2.7.5"
  }
 },
 "nbformat": 4,
 "nbformat_minor": 0
}
